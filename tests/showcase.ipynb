{
 "cells": [
  {
   "cell_type": "code",
   "execution_count": 1,
   "id": "c61442b9-e899-48e2-8c31-e09c2faaabc8",
   "metadata": {},
   "outputs": [],
   "source": [
    "import os, sys\n",
    "sys.path.append(\"../build/src/\") # add the route of the exported dynamic library\n",
    "import pyStrGraph"
   ]
  },
  {
   "cell_type": "code",
   "execution_count": 2,
   "id": "bd145f01-213e-42d6-a5a8-cef5b69b141e",
   "metadata": {},
   "outputs": [],
   "source": [
    "# define the topology of the DAG\n",
    "dag = pyStrGraph.DAG( [\"Hello\", \"World\", \"Str\", \"Graph\"] )\n",
    "concated_id = dag.addOperatorNode([0, 1], pyStrGraph.ConcatOperator(\" \"))\n",
    "repeated_id = dag.addOperatorNode([2], pyStrGraph.RepeatOperator(2, \" | \"))\n",
    "concated_id_1 = dag.addOperatorNode([concated_id, repeated_id, 3], pyStrGraph.ConcatOperator(\" \"))\n",
    "final_id = dag.addOperatorNode([concated_id_1], pyStrGraph.InsertOperator(3, \" <=> \"))"
   ]
  },
  {
   "cell_type": "code",
   "execution_count": 3,
   "id": "97189605-70b6-4620-b6e5-19aa88d67d98",
   "metadata": {},
   "outputs": [
    {
     "name": "stdout",
     "output_type": "stream",
     "text": [
      "--> Start computing..., verbose_level: 1\n",
      "---> Firing up multi-threads: \n",
      "----> This Thread ID: 0x700007a0d000\n",
      "----> This Thread ID: 0x700007a90000\n",
      "----> This Thread ID: 0x700007b13000\n",
      "----> This Thread ID: 0x700007b96000\n",
      "---> Firing up multi-threads: \n",
      "----> This Thread ID: 0x700007a0d000\n",
      "----> This Thread ID: 0x700007a90000\n",
      "---> Firing up multi-threads: \n",
      "----> This Thread ID: 0x700007a0d000\n",
      "---> Firing up multi-threads: \n",
      "----> This Thread ID: 0x700007a0d000\n"
     ]
    },
    {
     "data": {
      "text/plain": [
       "'Hel <=> lo  <=> Wor <=> ld  <=> Str <=>  |  <=> Str <=>  Gr <=> aph'"
      ]
     },
     "execution_count": 3,
     "metadata": {},
     "output_type": "execute_result"
    }
   ],
   "source": [
    "res = dag.doCompute(use_multithread = True, verbose_level = 1 )\n",
    "res[0]"
   ]
  },
  {
   "cell_type": "code",
   "execution_count": null,
   "id": "5d202d09-9fe0-4861-8b4e-97fe34ca68bd",
   "metadata": {},
   "outputs": [],
   "source": []
  }
 ],
 "metadata": {
  "kernelspec": {
   "display_name": "BrandNewEnv3.11",
   "language": "python",
   "name": "brandnewenv3.11"
  },
  "language_info": {
   "codemirror_mode": {
    "name": "ipython",
    "version": 3
   },
   "file_extension": ".py",
   "mimetype": "text/x-python",
   "name": "python",
   "nbconvert_exporter": "python",
   "pygments_lexer": "ipython3",
   "version": "3.11.5"
  }
 },
 "nbformat": 4,
 "nbformat_minor": 5
}
